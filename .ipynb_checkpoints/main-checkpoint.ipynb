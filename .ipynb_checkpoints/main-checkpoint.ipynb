{
 "cells": [
  {
   "cell_type": "markdown",
   "id": "572c8ace",
   "metadata": {},
   "source": [
    "# 1. Install & Import Dependences\n"
   ]
  },
  {
   "cell_type": "code",
   "execution_count": 1,
   "id": "ebdcc4d8",
   "metadata": {
    "scrolled": true
   },
   "outputs": [],
   "source": [
    "#!pip install tensorflow==2.8.1 tensorflow-gpu==2.8.1 opencv-python mediapipe sklearn matplotlib"
   ]
  },
  {
   "cell_type": "code",
   "execution_count": 2,
   "id": "0f14b0c9",
   "metadata": {},
   "outputs": [],
   "source": [
    "import cv2\n",
    "import mediapipe as mp\n",
    "import numpy as np\n",
    "from matplotlib import pyplot as plt\n",
    "import os\n",
    "import time"
   ]
  },
  {
   "cell_type": "markdown",
   "id": "8fc4eeba",
   "metadata": {},
   "source": [
    "# 2. Keypoints using Mediapipe Holistic"
   ]
  },
  {
   "cell_type": "code",
   "execution_count": 3,
   "id": "05c8367d",
   "metadata": {},
   "outputs": [],
   "source": [
    "mp_holistic = mp.solutions.holistic # Holistic model\n",
    "mp_drawing = mp.solutions.drawing_utils # Holistic drawing utilities"
   ]
  },
  {
   "cell_type": "code",
   "execution_count": 4,
   "id": "34d0a435",
   "metadata": {},
   "outputs": [],
   "source": [
    "def mediapipe_detection(image, model):\n",
    "    image = cv2.cvtColor(image, cv2.COLOR_BGR2RGB) # Color Convertion\n",
    "    # Image not writeable\n",
    "    image.flags.writeable = False\n",
    "    # Make prediction\n",
    "    results = model.process(image)\n",
    "    # Image is now writeable\n",
    "    image.flags.writeable = True\n",
    "    image = cv2.cvtColor(image, cv2.COLOR_RGB2BGR) # Color Convertion\n",
    "    return image, results"
   ]
  },
  {
   "cell_type": "code",
   "execution_count": 5,
   "id": "9483fb5d",
   "metadata": {},
   "outputs": [],
   "source": [
    "def draw_landmarks(image, results):\n",
    "#     mp_drawing.draw_landmarks(image, results.face_landmarks, mp_holistic.FACE_CONNECTIONS)\n",
    "    mp_drawing.draw_landmarks(image, results.pose_landmarks, mp_holistic.POSE_CONNECTIONS)\n",
    "    mp_drawing.draw_landmarks(image, results.left_hand_landmarks, mp_holistic.HAND_CONNECTIONS)\n",
    "    mp_drawing.draw_landmarks(image, results.right_hand_landmarks, mp_holistic.HAND_CONNECTIONS)"
   ]
  },
  {
   "cell_type": "code",
   "execution_count": 6,
   "id": "37c1e53c",
   "metadata": {},
   "outputs": [],
   "source": [
    "def draw_styled_landmarks(image, results):\n",
    "#     Draw Face connections\n",
    "#     mp_drawing.draw_landmarks(image, results.face_landmarks, mp_holistic.FACE_CONNECTIONS,\n",
    "#                               mp_drawing.DrawingSpec(color=(80,110,10), thickness=1, circle_radius=1),\n",
    "#                               mp_drawing.DrawingSpec(color=(80,256,121), thickness=1, circle_radius=1)\n",
    "#                               )\n",
    "    \n",
    "    #     Draw pose connections\n",
    "    mp_drawing.draw_landmarks(image, results.pose_landmarks, mp_holistic.POSE_CONNECTIONS,\n",
    "                             mp_drawing.DrawingSpec(color=(245,117,66), thickness=2, circle_radius=4),\n",
    "                             mp_drawing.DrawingSpec(color=(245,66,230), thickness=2, circle_radius=2)\n",
    "                             )    \n",
    "    #     Draw left hand connections\n",
    "    mp_drawing.draw_landmarks(image, results.left_hand_landmarks, mp_holistic.HAND_CONNECTIONS,\n",
    "                             mp_drawing.DrawingSpec(color=(121,22,76), thickness=2, circle_radius=4),\n",
    "                             mp_drawing.DrawingSpec(color=(121,44,250), thickness=2, circle_radius=2)\n",
    "                             )\n",
    "    #     Draw right hand connections\n",
    "    mp_drawing.draw_landmarks(image, results.right_hand_landmarks, mp_holistic.HAND_CONNECTIONS,\n",
    "                             mp_drawing.DrawingSpec(color=(80,22,10), thickness=2, circle_radius=4),\n",
    "                             mp_drawing.DrawingSpec(color=(80,44,121), thickness=2, circle_radius=2)\n",
    "                             )"
   ]
  },
  {
   "cell_type": "code",
   "execution_count": 7,
   "id": "418b05cd",
   "metadata": {},
   "outputs": [],
   "source": [
    "#mp_drawing.draw_landmarks??"
   ]
  },
  {
   "cell_type": "code",
   "execution_count": 8,
   "id": "b52feb33",
   "metadata": {},
   "outputs": [],
   "source": [
    "cap = cv2.VideoCapture(0) # Not access enter value (1).\n",
    "# Seting mediapipe model\n",
    "with mp_holistic.Holistic(min_detection_confidence=0.5, min_tracking_confidence=0.5) as holistic:\n",
    "    while cap.isOpened():\n",
    "        # reed feed\n",
    "        ret, frame = cap.read()\n",
    "\n",
    "        # make detection\n",
    "        image, results = mediapipe_detection(frame, holistic)\n",
    "        \n",
    "        # draw landmark\n",
    "        draw_styled_landmarks(image, results)\n",
    "\n",
    "        # open webcam window\n",
    "        cv2.imshow(\"Webcam Window\", image)\n",
    "        # break windows\n",
    "        if cv2.waitKey(10) & 0xff == ord('q'):\n",
    "            break\n",
    "    cap.release()\n",
    "    cv2.destroyAllWindows()"
   ]
  },
  {
   "cell_type": "code",
   "execution_count": 9,
   "id": "95f847c7",
   "metadata": {},
   "outputs": [],
   "source": [
    "# drawing hand, pose, face landmarks\n",
    "draw_styled_landmarks(image, results)"
   ]
  },
  {
   "cell_type": "code",
   "execution_count": 10,
   "id": "f61f1112",
   "metadata": {
    "scrolled": true
   },
   "outputs": [],
   "source": [
    "# showing matplotlib created image output\n",
    "# plt.imshow(cv2.cvtColor(image, cv2.COLOR_BGR2RGB))"
   ]
  },
  {
   "cell_type": "markdown",
   "id": "07bf2d89",
   "metadata": {},
   "source": [
    "# 3. Extract Keypoints Values"
   ]
  },
  {
   "cell_type": "code",
   "execution_count": 11,
   "id": "98dba068",
   "metadata": {},
   "outputs": [],
   "source": [
    "pose=[]\n",
    "for res in results.pose_landmarks.landmark:\n",
    "    test = np.array([res.x,res.y,res.z, res.visibility])\n",
    "    pose.append(test)"
   ]
  },
  {
   "cell_type": "code",
   "execution_count": 12,
   "id": "28a6389e",
   "metadata": {},
   "outputs": [],
   "source": [
    "# Define numpy array function.\n",
    "# face = np.array([[res.x,res.y,res.z] for res in results.face_landmarks.landmark]).flatten() if results.face_landmarks else np.zeros(1404)\n",
    "pose = np.array([[res.x,res.y,res.z, res.visibility] for res in results.pose_landmarks.landmark]).flatten() if results.pose_landmarks else np.zeros(132)\n",
    "lh = np.array([[res.x,res.y,res.z] for res in results.left_hand_landmarks.landmark]).flatten() if results.left_hand_landmarks else np.zeros(21*3)\n",
    "rh = np.array([[res.x,res.y,res.z] for res in results.right_hand_landmarks.landmark]).flatten() if results.right_hand_landmarks else np.zeros(21*3)"
   ]
  },
  {
   "cell_type": "code",
   "execution_count": 13,
   "id": "ee22b121",
   "metadata": {},
   "outputs": [],
   "source": [
    "# len(results.face_landmarks)\n",
    "# (n=results.face_landmarks) need to change value on shall 17 np.zeros(n)"
   ]
  },
  {
   "cell_type": "code",
   "execution_count": 14,
   "id": "095f9a83",
   "metadata": {},
   "outputs": [],
   "source": [
    "def extract_keypoints(results):\n",
    "    # face = np.array([[res.x,res.y,res.z] for res in results.face_landmarks.landmark]).flatten() if results.face_landmarks else np.zeros(468*3)\n",
    "    pose = np.array([[res.x,res.y,res.z, res.visibility] for res in results.pose_landmarks.landmark]).flatten() if results.pose_landmarks else np.zeros(33*4)\n",
    "    lh = np.array([[res.x,res.y,res.z] for res in results.left_hand_landmarks.landmark]).flatten() if results.left_hand_landmarks else np.zeros(21*3)\n",
    "    rh = np.array([[res.x,res.y,res.z] for res in results.right_hand_landmarks.landmark]).flatten() if results.right_hand_landmarks else np.zeros(21*3)\n",
    "    \n",
    "#     return np.concatenate([face, pose, lh, rh])\n",
    "    return np.concatenate([pose, lh, rh])"
   ]
  },
  {
   "cell_type": "code",
   "execution_count": 15,
   "id": "0c96b82c",
   "metadata": {},
   "outputs": [],
   "source": [
    "# Check all the kepoints\n",
    "# extract_keypoints(results).shape\n",
    "\n",
    "# math \n",
    "# 468*3+33*4+21*3+21*3"
   ]
  },
  {
   "cell_type": "code",
   "execution_count": 19,
   "id": "05e4792e",
   "metadata": {},
   "outputs": [],
   "source": [
    "# Save Images/Videos on File path with ex .npy\n",
    "# result_test = extract_keypoints(results)\n",
    "# np.save('0', result_test)\n",
    "\n",
    "# it will show the array\n",
    "# np.load(0.npy)"
   ]
  },
  {
   "cell_type": "markdown",
   "id": "fc1eaed8",
   "metadata": {},
   "source": [
    "# 4. Setup Folders for Data Collection"
   ]
  },
  {
   "cell_type": "code",
   "execution_count": 16,
   "id": "e98c72d4",
   "metadata": {},
   "outputs": [],
   "source": [
    "# path for exported/Collected data, numpy arrays\n",
    "DATA_PATH = os.path.join('Collected_Data')\n",
    "\n",
    "# Actions that we try to detect\n",
    "actions = np.array(['A','B','C','Thank You'])\n",
    "\n",
    "# photos/videos are going to storeing limit 30\n",
    "no_sequences = 30\n",
    "sequences_length = 30"
   ]
  },
  {
   "cell_type": "code",
   "execution_count": 17,
   "id": "cc063d98",
   "metadata": {},
   "outputs": [],
   "source": [
    "# Folder Stucture\n",
    "\n",
    "# A\n",
    "## 0 to ## 29 ==30\n",
    "# B\n",
    "## 0 to ## 29 ==30\n",
    "# c\n",
    "## 0 to ## 29 ==30\n",
    "# .\n",
    "# .\n",
    "# .\n",
    "# n\n",
    "## 0 to ## 29 ==30"
   ]
  },
  {
   "cell_type": "code",
   "execution_count": 18,
   "id": "6071ffb8",
   "metadata": {},
   "outputs": [],
   "source": [
    "for action in actions:\n",
    "    for sequence in range(no_sequences):\n",
    "        try:\n",
    "            os.makedirs(os.path.join(DATA_PATH, action, str(sequence)))\n",
    "        except:\n",
    "            pass"
   ]
  },
  {
   "cell_type": "markdown",
   "id": "236bfaa2",
   "metadata": {},
   "source": [
    "# 5. Collect keypoint Values for Training & Testing"
   ]
  },
  {
   "cell_type": "code",
   "execution_count": null,
   "id": "685ddd6b",
   "metadata": {},
   "outputs": [],
   "source": [
    "cap = cv2.VideoCapture(0) # Enter value (1).\n",
    "# Seting mediapipe model\n",
    "with mp_holistic.Holistic(min_detection_confidence=0.5, min_tracking_confidence=0.5) as holistic:\n",
    "    \n",
    "    # loop through actions\n",
    "    for action in actions:\n",
    "        # loop through sequences or a videos\n",
    "        for sequence in range(no_sequences):\n",
    "            # loop through video length or a sequences length\n",
    "            for frame_num in range(sequence_length):                \n",
    "                \n",
    "                # reed feed\n",
    "                ret, frame = cap.read()\n",
    "\n",
    "                # make detection\n",
    "                image, results = mediapipe_detection(frame, holistic)\n",
    "\n",
    "                # draw landmark\n",
    "                draw_styled_landmarks(image, results)\n",
    "                \n",
    "                # Apply the self folder changing & data collection logic\n",
    "                if frame_num == 0:\n",
    "                    cv2.putText(image, 'STARTING COLLECTIONS', (120, 200),\n",
    "                               cv2.FONT_HERSHY_SIMPLEX, 1, (0, 255, 0), 4, cv2.LINE_AA)\n",
    "                    cv2.putText(image, 'Collecting frames for {} video Number{}'.formate(action, sequence),(15,12),\n",
    "                               cv2.FONT_HERSHY_SIMPLEX, 0.5, (0, 0, 255), 1, cv2.LINE_AA)\n",
    "                    cv2.waitKey(2000)\n",
    "                else:\n",
    "                    cv2.putText(image, 'Collecting frames for {} video Number{}'.formate(action, sequence), (15,12),\n",
    "                               cv2.FONT_HERSHY_SIMPLEX, 0.5, (0, 0, 255), 1, cv2.LINE_AA)\n",
    "                \n",
    "                # Export keypoints\n",
    "                keypoints = extract_keypoints(results)\n",
    "                npy_path = os.path.join(DATA_PATH, action, str(sequence), str(frame_num))\n",
    "                np.save(npy_path, keypoints)\n",
    "\n",
    "                # open webcam window\n",
    "                cv2.imshow(\"Webcam Window\", image)\n",
    "                \n",
    "                # break windows\n",
    "                if cv2.waitKey(10) & 0xff == ord('q'):\n",
    "                    break\n",
    "    cap.release()\n",
    "    cv2.destroyAllWindows()"
   ]
  },
  {
   "cell_type": "markdown",
   "id": "9a8c9967",
   "metadata": {},
   "source": [
    "# 6. Data preprocessing  & Create Lables and Features"
   ]
  },
  {
   "cell_type": "code",
   "execution_count": null,
   "id": "0e282e20",
   "metadata": {},
   "outputs": [],
   "source": []
  },
  {
   "cell_type": "code",
   "execution_count": null,
   "id": "45bad86e",
   "metadata": {},
   "outputs": [],
   "source": []
  },
  {
   "cell_type": "code",
   "execution_count": null,
   "id": "1fcb76aa",
   "metadata": {},
   "outputs": [],
   "source": [
    "# if we get an error we need to run this shell\n",
    "# cap.release()\n",
    "# cv2.destroyAllWindows()"
   ]
  }
 ],
 "metadata": {
  "kernelspec": {
   "display_name": "Python 3 (ipykernel)",
   "language": "python",
   "name": "python3"
  },
  "language_info": {
   "codemirror_mode": {
    "name": "ipython",
    "version": 3
   },
   "file_extension": ".py",
   "mimetype": "text/x-python",
   "name": "python",
   "nbconvert_exporter": "python",
   "pygments_lexer": "ipython3",
   "version": "3.10.9"
  }
 },
 "nbformat": 4,
 "nbformat_minor": 5
}
